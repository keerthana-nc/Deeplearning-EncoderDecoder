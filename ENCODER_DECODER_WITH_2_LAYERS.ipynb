{
  "nbformat": 4,
  "nbformat_minor": 0,
  "metadata": {
    "colab": {
      "provenance": [],
      "include_colab_link": true
    },
    "kernelspec": {
      "name": "python3",
      "display_name": "Python 3"
    },
    "language_info": {
      "name": "python"
    }
  },
  "cells": [
    {
      "cell_type": "markdown",
      "metadata": {
        "id": "view-in-github",
        "colab_type": "text"
      },
      "source": [
        "<a href=\"https://colab.research.google.com/github/keerthana-nc/Deeplearning-EncoderDecoder/blob/main/ENCODER_DECODER_WITH_2_LAYERS.ipynb\" target=\"_parent\"><img src=\"https://colab.research.google.com/assets/colab-badge.svg\" alt=\"Open In Colab\"/></a>"
      ]
    },
    {
      "cell_type": "code",
      "execution_count": null,
      "metadata": {
        "id": "t91xymktzjIX"
      },
      "outputs": [],
      "source": [
        "import pandas as pd, numpy as np#\n",
        "import matplotlib.pyplot as plt#\n",
        "from numpy import array#\n",
        "import math#\n",
        "from sklearn.metrics import r2_score #R-squared is a statistical measure that represents the proportion of the variance in the dependent variable that is predictable from the independent variables in a regression model. Basically R^2 is better than R.\n",
        "from keras.models import load_model #The load_model function is used to load a pre-trained neural network model that was previously saved using Keras' save function.\n",
        "from keras.engine.input_layer import InputLayer #This input layer can then be used as the starting point for building your neural network model using subsequent layers.\n",
        "from sklearn.preprocessing import MinMaxScaler#\n",
        "from sklearn.metrics import mean_squared_error#\n",
        "from sklearn.metrics import accuracy_score#\n",
        "from keras.optimizers import Adam#\n",
        "from keras.callbacks import ModelCheckpoint\n",
        "from keras.losses import MeanSquaredError#\n",
        "from keras.metrics import RootMeanSquaredError#\n",
        "from sklearn.metrics import mean_absolute_error#\n",
        "import keras#\n",
        "from keras.models import Model#\n",
        "from keras.layers import Input#\n",
        "from keras.layers import Dense#\n",
        "from keras.models import Sequential#\n",
        "from keras.layers import LSTM#\n",
        "from keras.layers import Bidirectional\n",
        "from keras.layers import Dropout\n",
        "from keras import losses #Loss functions are used to measure the difference between the predicted values and the actual target values during the training process.\n",
        "import tensorflow as tf\n",
        "from keras.layers import Flatten#\n",
        "from keras.layers import RepeatVector #The RepeatVector layer is a component in Keras that's used to repeat the input data along a specified axis.\n",
        "from keras.layers import TimeDistributed #The TimeDistributed layer in Keras is used to apply a specific layer to each time step of a sequence independently. This is often useful when dealing with sequence data in recurrent neural networks (RNNs) or other types of sequential models.\n",
        "from keras.layers import ConvLSTM2D\n",
        "from numpy.core import numerictypes\n",
        "import random"
      ]
    },
    {
      "cell_type": "code",
      "source": [
        "from google.colab import files\n",
        "uploaded = files.upload()\n",
        "\n",
        "filename = next(iter(uploaded))\n",
        "dataset = pd.read_csv(filename)"
      ],
      "metadata": {
        "id": "PESFXsDJDF1g",
        "colab": {
          "base_uri": "https://localhost:8080/",
          "height": 73
        },
        "outputId": "5c3a8351-fd98-4424-f605-5b5ae075ad43"
      },
      "execution_count": null,
      "outputs": [
        {
          "output_type": "display_data",
          "data": {
            "text/plain": [
              "<IPython.core.display.HTML object>"
            ],
            "text/html": [
              "\n",
              "     <input type=\"file\" id=\"files-e91adae9-c231-4243-9fd5-0d0e4c802061\" name=\"files[]\" multiple disabled\n",
              "        style=\"border:none\" />\n",
              "     <output id=\"result-e91adae9-c231-4243-9fd5-0d0e4c802061\">\n",
              "      Upload widget is only available when the cell has been executed in the\n",
              "      current browser session. Please rerun this cell to enable.\n",
              "      </output>\n",
              "      <script>// Copyright 2017 Google LLC\n",
              "//\n",
              "// Licensed under the Apache License, Version 2.0 (the \"License\");\n",
              "// you may not use this file except in compliance with the License.\n",
              "// You may obtain a copy of the License at\n",
              "//\n",
              "//      http://www.apache.org/licenses/LICENSE-2.0\n",
              "//\n",
              "// Unless required by applicable law or agreed to in writing, software\n",
              "// distributed under the License is distributed on an \"AS IS\" BASIS,\n",
              "// WITHOUT WARRANTIES OR CONDITIONS OF ANY KIND, either express or implied.\n",
              "// See the License for the specific language governing permissions and\n",
              "// limitations under the License.\n",
              "\n",
              "/**\n",
              " * @fileoverview Helpers for google.colab Python module.\n",
              " */\n",
              "(function(scope) {\n",
              "function span(text, styleAttributes = {}) {\n",
              "  const element = document.createElement('span');\n",
              "  element.textContent = text;\n",
              "  for (const key of Object.keys(styleAttributes)) {\n",
              "    element.style[key] = styleAttributes[key];\n",
              "  }\n",
              "  return element;\n",
              "}\n",
              "\n",
              "// Max number of bytes which will be uploaded at a time.\n",
              "const MAX_PAYLOAD_SIZE = 100 * 1024;\n",
              "\n",
              "function _uploadFiles(inputId, outputId) {\n",
              "  const steps = uploadFilesStep(inputId, outputId);\n",
              "  const outputElement = document.getElementById(outputId);\n",
              "  // Cache steps on the outputElement to make it available for the next call\n",
              "  // to uploadFilesContinue from Python.\n",
              "  outputElement.steps = steps;\n",
              "\n",
              "  return _uploadFilesContinue(outputId);\n",
              "}\n",
              "\n",
              "// This is roughly an async generator (not supported in the browser yet),\n",
              "// where there are multiple asynchronous steps and the Python side is going\n",
              "// to poll for completion of each step.\n",
              "// This uses a Promise to block the python side on completion of each step,\n",
              "// then passes the result of the previous step as the input to the next step.\n",
              "function _uploadFilesContinue(outputId) {\n",
              "  const outputElement = document.getElementById(outputId);\n",
              "  const steps = outputElement.steps;\n",
              "\n",
              "  const next = steps.next(outputElement.lastPromiseValue);\n",
              "  return Promise.resolve(next.value.promise).then((value) => {\n",
              "    // Cache the last promise value to make it available to the next\n",
              "    // step of the generator.\n",
              "    outputElement.lastPromiseValue = value;\n",
              "    return next.value.response;\n",
              "  });\n",
              "}\n",
              "\n",
              "/**\n",
              " * Generator function which is called between each async step of the upload\n",
              " * process.\n",
              " * @param {string} inputId Element ID of the input file picker element.\n",
              " * @param {string} outputId Element ID of the output display.\n",
              " * @return {!Iterable<!Object>} Iterable of next steps.\n",
              " */\n",
              "function* uploadFilesStep(inputId, outputId) {\n",
              "  const inputElement = document.getElementById(inputId);\n",
              "  inputElement.disabled = false;\n",
              "\n",
              "  const outputElement = document.getElementById(outputId);\n",
              "  outputElement.innerHTML = '';\n",
              "\n",
              "  const pickedPromise = new Promise((resolve) => {\n",
              "    inputElement.addEventListener('change', (e) => {\n",
              "      resolve(e.target.files);\n",
              "    });\n",
              "  });\n",
              "\n",
              "  const cancel = document.createElement('button');\n",
              "  inputElement.parentElement.appendChild(cancel);\n",
              "  cancel.textContent = 'Cancel upload';\n",
              "  const cancelPromise = new Promise((resolve) => {\n",
              "    cancel.onclick = () => {\n",
              "      resolve(null);\n",
              "    };\n",
              "  });\n",
              "\n",
              "  // Wait for the user to pick the files.\n",
              "  const files = yield {\n",
              "    promise: Promise.race([pickedPromise, cancelPromise]),\n",
              "    response: {\n",
              "      action: 'starting',\n",
              "    }\n",
              "  };\n",
              "\n",
              "  cancel.remove();\n",
              "\n",
              "  // Disable the input element since further picks are not allowed.\n",
              "  inputElement.disabled = true;\n",
              "\n",
              "  if (!files) {\n",
              "    return {\n",
              "      response: {\n",
              "        action: 'complete',\n",
              "      }\n",
              "    };\n",
              "  }\n",
              "\n",
              "  for (const file of files) {\n",
              "    const li = document.createElement('li');\n",
              "    li.append(span(file.name, {fontWeight: 'bold'}));\n",
              "    li.append(span(\n",
              "        `(${file.type || 'n/a'}) - ${file.size} bytes, ` +\n",
              "        `last modified: ${\n",
              "            file.lastModifiedDate ? file.lastModifiedDate.toLocaleDateString() :\n",
              "                                    'n/a'} - `));\n",
              "    const percent = span('0% done');\n",
              "    li.appendChild(percent);\n",
              "\n",
              "    outputElement.appendChild(li);\n",
              "\n",
              "    const fileDataPromise = new Promise((resolve) => {\n",
              "      const reader = new FileReader();\n",
              "      reader.onload = (e) => {\n",
              "        resolve(e.target.result);\n",
              "      };\n",
              "      reader.readAsArrayBuffer(file);\n",
              "    });\n",
              "    // Wait for the data to be ready.\n",
              "    let fileData = yield {\n",
              "      promise: fileDataPromise,\n",
              "      response: {\n",
              "        action: 'continue',\n",
              "      }\n",
              "    };\n",
              "\n",
              "    // Use a chunked sending to avoid message size limits. See b/62115660.\n",
              "    let position = 0;\n",
              "    do {\n",
              "      const length = Math.min(fileData.byteLength - position, MAX_PAYLOAD_SIZE);\n",
              "      const chunk = new Uint8Array(fileData, position, length);\n",
              "      position += length;\n",
              "\n",
              "      const base64 = btoa(String.fromCharCode.apply(null, chunk));\n",
              "      yield {\n",
              "        response: {\n",
              "          action: 'append',\n",
              "          file: file.name,\n",
              "          data: base64,\n",
              "        },\n",
              "      };\n",
              "\n",
              "      let percentDone = fileData.byteLength === 0 ?\n",
              "          100 :\n",
              "          Math.round((position / fileData.byteLength) * 100);\n",
              "      percent.textContent = `${percentDone}% done`;\n",
              "\n",
              "    } while (position < fileData.byteLength);\n",
              "  }\n",
              "\n",
              "  // All done.\n",
              "  yield {\n",
              "    response: {\n",
              "      action: 'complete',\n",
              "    }\n",
              "  };\n",
              "}\n",
              "\n",
              "scope.google = scope.google || {};\n",
              "scope.google.colab = scope.google.colab || {};\n",
              "scope.google.colab._files = {\n",
              "  _uploadFiles,\n",
              "  _uploadFilesContinue,\n",
              "};\n",
              "})(self);\n",
              "</script> "
            ]
          },
          "metadata": {}
        },
        {
          "output_type": "stream",
          "name": "stdout",
          "text": [
            "Saving BR04_06_11_13_15_COMBINED3.csv to BR04_06_11_13_15_COMBINED3.csv\n"
          ]
        }
      ]
    },
    {
      "cell_type": "code",
      "source": [
        "print(dataset)"
      ],
      "metadata": {
        "id": "SpvJg3frDxl8",
        "colab": {
          "base_uri": "https://localhost:8080/"
        },
        "outputId": "f413eb9d-1bfb-49a1-a8f1-487cdbdd4a37"
      },
      "execution_count": null,
      "outputs": [
        {
          "output_type": "stream",
          "name": "stdout",
          "text": [
            "       Active Power\n",
            "0          3.954266\n",
            "1          3.711535\n",
            "2          3.615177\n",
            "3          3.548714\n",
            "4          4.153360\n",
            "...             ...\n",
            "35035      3.438751\n",
            "35036      3.636557\n",
            "35037      3.396421\n",
            "35038      3.472908\n",
            "35039      3.443530\n",
            "\n",
            "[35040 rows x 1 columns]\n"
          ]
        }
      ]
    },
    {
      "cell_type": "code",
      "source": [
        "#cols = ['Total_Power']\n",
        "#data = dataset[cols].values\n",
        "\n",
        "rs_1 = ['Active Power']\n",
        "data = dataset[rs_1].values\n",
        "\n",
        "plt.hist(rs_1, bins = 1)\n",
        "plt.show()\n",
        "print(min(rs_1),max(rs_1))\n",
        "\n",
        "#rs_2 = ['Customer 2 Load (KWh)']\n",
        "#data = dataset[rs_2].values\n",
        "\n",
        "#plt.hist(rs_2, bins = 1)\n",
        "#plt.show()\n",
        "#print(min(rs_2),max(rs_2))\n",
        "\n",
        "#rs_3 = ['Customer 3 Load (KWh)']\n",
        "#data = dataset[rs_3].values\n",
        "\n",
        "#plt.hist(rs_3, bins = 1)\n",
        "#plt.show()\n",
        "#print(min(rs_3),max(rs_3))\n",
        "\n",
        "#rs_4 = ['Customer 4 Load (KWh)']\n",
        "#data = dataset[rs_4].values\n",
        "\n",
        "#plt.hist(rs_4, bins = 1)\n",
        "#plt.show()\n",
        "#print(min(rs_4),max(rs_4))"
      ],
      "metadata": {
        "id": "3PB5xFtNDzy1",
        "colab": {
          "base_uri": "https://localhost:8080/",
          "height": 447
        },
        "outputId": "b75a616b-2c7d-461b-f416-c502726ab235"
      },
      "execution_count": null,
      "outputs": [
        {
          "output_type": "display_data",
          "data": {
            "text/plain": [
              "<Figure size 640x480 with 1 Axes>"
            ],
            "image/png": "[encoded data removed]"
          },
          "metadata": {}
        },
        {
          "output_type": "stream",
          "name": "stdout",
          "text": [
            "Active Power Active Power\n"
          ]
        }
      ]
    },
    {
      "cell_type": "code",
      "source": [
        "def add(l):\n",
        "  y=[]\n",
        "  i=0\n",
        "  s=0\n",
        "  while i<len(l):\n",
        "    if i%96==0:\n",
        "      y.append(round(s,3))\n",
        "      s=0\n",
        "    s=s+l[i]\n",
        "    i+=1\n",
        "  return array(y)\n",
        "rs_1=add(rs_1)\n",
        "#rs_2=add(rs_2)\n",
        "#rs_3=add(rs_3)\n",
        "#rs_4=add(rs_4)\n",
        "print(len(rs_1))"
      ],
      "metadata": {
        "colab": {
          "base_uri": "https://localhost:8080/",
          "height": 366
        },
        "id": "OyZ6dA6zWPYi",
        "outputId": "9f916fe8-7d7f-410c-faf5-266cdb274ffa"
      },
      "execution_count": null,
      "outputs": [
        {
          "output_type": "error",
          "ename": "TypeError",
          "evalue": "ignored",
          "traceback": [
            "\u001b[0;31m---------------------------------------------------------------------------\u001b[0m",
            "\u001b[0;31mTypeError\u001b[0m                                 Traceback (most recent call last)",
            "\u001b[0;32m<ipython-input-6-f5726d719e86>\u001b[0m in \u001b[0;36m<cell line: 12>\u001b[0;34m()\u001b[0m\n\u001b[1;32m     10\u001b[0m     \u001b[0mi\u001b[0m\u001b[0;34m+=\u001b[0m\u001b[0;36m1\u001b[0m\u001b[0;34m\u001b[0m\u001b[0;34m\u001b[0m\u001b[0m\n\u001b[1;32m     11\u001b[0m   \u001b[0;32mreturn\u001b[0m \u001b[0marray\u001b[0m\u001b[0;34m(\u001b[0m\u001b[0my\u001b[0m\u001b[0;34m)\u001b[0m\u001b[0;34m\u001b[0m\u001b[0;34m\u001b[0m\u001b[0m\n\u001b[0;32m---> 12\u001b[0;31m \u001b[0mrs_1\u001b[0m\u001b[0;34m=\u001b[0m\u001b[0madd\u001b[0m\u001b[0;34m(\u001b[0m\u001b[0mrs_1\u001b[0m\u001b[0;34m)\u001b[0m\u001b[0;34m\u001b[0m\u001b[0;34m\u001b[0m\u001b[0m\n\u001b[0m\u001b[1;32m     13\u001b[0m \u001b[0;31m#rs_2=add(rs_2)\u001b[0m\u001b[0;34m\u001b[0m\u001b[0;34m\u001b[0m\u001b[0m\n\u001b[1;32m     14\u001b[0m \u001b[0;31m#rs_3=add(rs_3)\u001b[0m\u001b[0;34m\u001b[0m\u001b[0;34m\u001b[0m\u001b[0m\n",
            "\u001b[0;32m<ipython-input-6-f5726d719e86>\u001b[0m in \u001b[0;36madd\u001b[0;34m(l)\u001b[0m\n\u001b[1;32m      7\u001b[0m       \u001b[0my\u001b[0m\u001b[0;34m.\u001b[0m\u001b[0mappend\u001b[0m\u001b[0;34m(\u001b[0m\u001b[0mround\u001b[0m\u001b[0;34m(\u001b[0m\u001b[0ms\u001b[0m\u001b[0;34m,\u001b[0m\u001b[0;36m3\u001b[0m\u001b[0;34m)\u001b[0m\u001b[0;34m)\u001b[0m\u001b[0;34m\u001b[0m\u001b[0;34m\u001b[0m\u001b[0m\n\u001b[1;32m      8\u001b[0m       \u001b[0ms\u001b[0m\u001b[0;34m=\u001b[0m\u001b[0;36m0\u001b[0m\u001b[0;34m\u001b[0m\u001b[0;34m\u001b[0m\u001b[0m\n\u001b[0;32m----> 9\u001b[0;31m     \u001b[0ms\u001b[0m\u001b[0;34m=\u001b[0m\u001b[0ms\u001b[0m\u001b[0;34m+\u001b[0m\u001b[0ml\u001b[0m\u001b[0;34m[\u001b[0m\u001b[0mi\u001b[0m\u001b[0;34m]\u001b[0m\u001b[0;34m\u001b[0m\u001b[0;34m\u001b[0m\u001b[0m\n\u001b[0m\u001b[1;32m     10\u001b[0m     \u001b[0mi\u001b[0m\u001b[0;34m+=\u001b[0m\u001b[0;36m1\u001b[0m\u001b[0;34m\u001b[0m\u001b[0;34m\u001b[0m\u001b[0m\n\u001b[1;32m     11\u001b[0m   \u001b[0;32mreturn\u001b[0m \u001b[0marray\u001b[0m\u001b[0;34m(\u001b[0m\u001b[0my\u001b[0m\u001b[0;34m)\u001b[0m\u001b[0;34m\u001b[0m\u001b[0;34m\u001b[0m\u001b[0m\n",
            "\u001b[0;31mTypeError\u001b[0m: unsupported operand type(s) for +: 'int' and 'str'"
          ]
        }
      ]
    },
    {
      "cell_type": "code",
      "source": [
        "#train = pd.DataFrame(list((rs_1[:int(0.8*len(rs_1))],rs_2[:int(0.8*len(rs_2))],rs_3[:int(0.8*len(rs_3))],rs_4[:int(0.8*len(rs_4))])),columns=['Customer 1 Load (KWh)','Customer 2 Load (KWh)','Customer 3 Load (KWh)','Customer 4 Load (KWh)'])\n",
        "#test = pd.DataFrame(list((rs_1[int(0.8*len(rs_1)):],rs_2[int(0.8*len(rs_2)):],rs_3[int(0.8*len(rs_3)):],rs_4[int(0.8*len(rs_4)):])),columns=['Customer 1 Load (KWh)','Customer 2 Load (KWh)','Customer 3 Load (KWh)','Customer 4 Load (KWh)'])\n",
        "#train = np.array(train)\n",
        "#test = np.array(test)\n",
        "train_size = int(len(dataset)*0.8)\n",
        "test_size = len(dataset) - train_size\n",
        "train, test = dataset.iloc[0:train_size,:], dataset.iloc[train_size:len(dataset),:]\n",
        "print(train,test)"
      ],
      "metadata": {
        "colab": {
          "base_uri": "https://localhost:8080/"
        },
        "id": "wKEGtjpRXywn",
        "outputId": "8a200b3e-5d7e-4b40-d1ff-6037e2ce24c5"
      },
      "execution_count": null,
      "outputs": [
        {
          "output_type": "stream",
          "name": "stdout",
          "text": [
            "       Active Power\n",
            "0          3.954266\n",
            "1          3.711535\n",
            "2          3.615177\n",
            "3          3.548714\n",
            "4          4.153360\n",
            "...             ...\n",
            "28027      3.441263\n",
            "28028      3.353858\n",
            "28029      3.428234\n",
            "28030      3.721090\n",
            "28031      3.121119\n",
            "\n",
            "[28032 rows x 1 columns]        Active Power\n",
            "28032      3.599524\n",
            "28033      3.601594\n",
            "28034      3.270605\n",
            "28035      3.003809\n",
            "28036      3.083947\n",
            "...             ...\n",
            "35035      3.438751\n",
            "35036      3.636557\n",
            "35037      3.396421\n",
            "35038      3.472908\n",
            "35039      3.443530\n",
            "\n",
            "[7008 rows x 1 columns]\n"
          ]
        }
      ]
    },
    {
      "cell_type": "code",
      "source": [
        "def split_series(series, n_past, n_future):\n",
        "  X, y = list(), list()\n",
        "  for window_start in range(len(series)):\n",
        "    past_end = window_start + n_past\n",
        "    future_end = past_end + n_future\n",
        "    if future_end > len(series):\n",
        "      break\n",
        "    # slicing the past and future parts of the window\n",
        "    past, future = series[window_start:past_end, :], series[past_end:future_end, :]\n",
        "    X.append(past)\n",
        "    y.append(future)\n",
        "  return np.array(X), np.array(y)"
      ],
      "metadata": {
        "id": "Jfhp1nZhY0uG"
      },
      "execution_count": null,
      "outputs": []
    },
    {
      "cell_type": "code",
      "source": [
        "scalers={}\n",
        "for i in train.columns:\n",
        "    scaler = MinMaxScaler(feature_range=(-1,1))\n",
        "    s_s = scaler.fit_transform(train[i].values.reshape(-1,1))\n",
        "    s_s=np.reshape(s_s,len(s_s))\n",
        "    scalers['scaler_'+ i] = scaler\n",
        "    train[i]=s_s\n",
        "\n",
        "test = test\n",
        "for i in train.columns:\n",
        "    scaler = scalers['scaler_'+i]\n",
        "    s_s = scaler.transform(test[i].values.reshape(-1,1))\n",
        "    s_s=np.reshape(s_s,len(s_s))\n",
        "    scalers['scaler_'+i] = scaler\n",
        "    test[i]=s_s\n",
        "\n",
        "print(test,train)"
      ],
      "metadata": {
        "colab": {
          "base_uri": "https://localhost:8080/"
        },
        "id": "uYw2DoSdY1SY",
        "outputId": "b4a3a5f2-170d-4254-90bc-2a2616774788"
      },
      "execution_count": null,
      "outputs": [
        {
          "output_type": "stream",
          "name": "stdout",
          "text": [
            "       Active Power\n",
            "28032     -0.191006\n",
            "28033     -0.189478\n",
            "28034     -0.433855\n",
            "28035     -0.630838\n",
            "28036     -0.571670\n",
            "...             ...\n",
            "35035     -0.309709\n",
            "35036     -0.163664\n",
            "35037     -0.340962\n",
            "35038     -0.284490\n",
            "35039     -0.306180\n",
            "\n",
            "[7008 rows x 1 columns]        Active Power\n",
            "0          0.070909\n",
            "1         -0.108305\n",
            "2         -0.179449\n",
            "3         -0.228520\n",
            "4          0.217905\n",
            "...             ...\n",
            "28027     -0.307854\n",
            "28028     -0.372387\n",
            "28029     -0.317474\n",
            "28030     -0.101251\n",
            "28031     -0.544225\n",
            "\n",
            "[28032 rows x 1 columns]\n"
          ]
        },
        {
          "output_type": "stream",
          "name": "stderr",
          "text": [
            "<ipython-input-9-1741e1793d5d>:7: SettingWithCopyWarning: \n",
            "A value is trying to be set on a copy of a slice from a DataFrame.\n",
            "Try using .loc[row_indexer,col_indexer] = value instead\n",
            "\n",
            "See the caveats in the documentation: https://pandas.pydata.org/pandas-docs/stable/user_guide/indexing.html#returning-a-view-versus-a-copy\n",
            "  train[i]=s_s\n",
            "<ipython-input-9-1741e1793d5d>:15: SettingWithCopyWarning: \n",
            "A value is trying to be set on a copy of a slice from a DataFrame.\n",
            "Try using .loc[row_indexer,col_indexer] = value instead\n",
            "\n",
            "See the caveats in the documentation: https://pandas.pydata.org/pandas-docs/stable/user_guide/indexing.html#returning-a-view-versus-a-copy\n",
            "  test[i]=s_s\n"
          ]
        }
      ]
    },
    {
      "cell_type": "code",
      "source": [
        "n_past = 30\n",
        "n_future = 3\n",
        "n_features = 1"
      ],
      "metadata": {
        "id": "nGv7Pu9lY7CV"
      },
      "execution_count": null,
      "outputs": []
    },
    {
      "cell_type": "code",
      "source": [
        "X_train, y_train = split_series(train.values,n_past, n_future)\n",
        "X_train = X_train.reshape((X_train.shape[0], X_train.shape[1],n_features))\n",
        "y_train = y_train.reshape((y_train.shape[0], y_train.shape[1], n_features))"
      ],
      "metadata": {
        "id": "WwZRDhnUY_HP"
      },
      "execution_count": null,
      "outputs": []
    },
    {
      "cell_type": "code",
      "source": [
        "X_test, y_test = split_series(test.values,n_past, n_future)\n",
        "X_test = X_test.reshape((X_test.shape[0], X_test.shape[1],n_features))\n",
        "y_test = y_test.reshape((y_test.shape[0], y_test.shape[1], n_features))\n",
        "print(X_train.shape, y_train.shape)\n",
        "print(X_test.shape, y_test.shape)"
      ],
      "metadata": {
        "colab": {
          "base_uri": "https://localhost:8080/"
        },
        "id": "s1rEnJ7WY_v9",
        "outputId": "f8e8caa2-e940-472e-bd81-f92ba8c5e87c"
      },
      "execution_count": null,
      "outputs": [
        {
          "output_type": "stream",
          "name": "stdout",
          "text": [
            "(28000, 30, 1) (28000, 3, 1)\n",
            "(6976, 30, 1) (6976, 3, 1)\n"
          ]
        }
      ]
    },
    {
      "cell_type": "code",
      "source": [
        "'''\n",
        "encoder_inputs = tf.keras.layers.Input(shape=(n_past, n_features))\n",
        "print(encoder_inputs)\n",
        "encoder_l1 = tf.keras.layers.LSTM(100, return_state=True)\n",
        "encoder_outputs1 = encoder_l1(encoder_inputs)\n",
        "\n",
        "encoder_states1 = encoder_outputs1[1:]\n",
        "\n",
        "decoder_inputs = tf.keras.layers.RepeatVector(n_future)(encoder_outputs1[0])\n",
        "decoder_l1 = tf.keras.layers.LSTM(100, return_sequences=True)(decoder_inputs,initial_state = encoder_states1)\n",
        "decoder_outputs1 = tf.keras.layers.TimeDistributed(tf.keras.layers.Dense(n_features))(decoder_l1)\n",
        "\n",
        "model_e1d1 = tf.keras.models.Model(encoder_inputs,decoder_outputs1)\n",
        "model_e1d1.summary()\n",
        "'''"
      ],
      "metadata": {
        "colab": {
          "base_uri": "https://localhost:8080/",
          "height": 88
        },
        "id": "cA74vAuPZCKL",
        "outputId": "b04911a7-9b84-4e5d-cb78-d3862825a3a9"
      },
      "execution_count": null,
      "outputs": [
        {
          "output_type": "execute_result",
          "data": {
            "text/plain": [
              "'\\nencoder_inputs = tf.keras.layers.Input(shape=(n_past, n_features))\\nprint(encoder_inputs)\\nencoder_l1 = tf.keras.layers.LSTM(100, return_state=True)\\nencoder_outputs1 = encoder_l1(encoder_inputs)\\n\\nencoder_states1 = encoder_outputs1[1:]\\n\\ndecoder_inputs = tf.keras.layers.RepeatVector(n_future)(encoder_outputs1[0])\\ndecoder_l1 = tf.keras.layers.LSTM(100, return_sequences=True)(decoder_inputs,initial_state = encoder_states1)\\ndecoder_outputs1 = tf.keras.layers.TimeDistributed(tf.keras.layers.Dense(n_features))(decoder_l1)\\n\\nmodel_e1d1 = tf.keras.models.Model(encoder_inputs,decoder_outputs1)\\nmodel_e1d1.summary()\\n'"
            ],
            "application/vnd.google.colaboratory.intrinsic+json": {
              "type": "string"
            }
          },
          "metadata": {},
          "execution_count": 13
        }
      ]
    },
    {
      "cell_type": "code",
      "source": [
        "import tensorflow as tf\n",
        "\n",
        "# Define the input shape and create the encoder input layer\n",
        "encoder_inputs = tf.keras.layers.Input(shape=(n_past, n_features))\n",
        "\n",
        "# Create the first encoder LSTM layer with return_sequences=True\n",
        "encoder_l1 = tf.keras.layers.LSTM(100, return_sequences=True, return_state=True)\n",
        "encoder_outputs1, state_h1, state_c1 = encoder_l1(encoder_inputs)\n",
        "\n",
        "# Create a second encoder LSTM layer (new layer) with return_sequences=True\n",
        "encoder_l2 = tf.keras.layers.LSTM(100, return_sequences=True, return_state=True)\n",
        "encoder_outputs2, state_h2, state_c2 = encoder_l2(encoder_outputs1)\n",
        "\n",
        "# Keep track of the states for both LSTM layers\n",
        "encoder_states1 = [state_h1, state_c1]\n",
        "encoder_states2 = [state_h2, state_c2]\n",
        "\n",
        "# Flatten the encoder outputs (reshape to 2D) before passing to RepeatVector\n",
        "encoder_outputs_flat = tf.keras.layers.Flatten()(encoder_outputs2)\n",
        "\n",
        "# Repeat the encoder's final output for the decoder\n",
        "decoder_inputs = tf.keras.layers.RepeatVector(n_future)(encoder_outputs_flat)\n",
        "\n",
        "# Reshape the decoder inputs to match the LSTM input shape\n",
        "decoder_inputs = tf.keras.layers.Reshape((n_future, -1))(decoder_inputs)\n",
        "\n",
        "# Create the decoder LSTM layer\n",
        "decoder_l1 = tf.keras.layers.LSTM(100, return_sequences=True)(decoder_inputs, initial_state=encoder_states2)\n",
        "\n",
        "# Apply the TimeDistributed Dense layer to the decoder LSTM output\n",
        "decoder_outputs1 = tf.keras.layers.TimeDistributed(tf.keras.layers.Dense(n_features))(decoder_l1)\n",
        "\n",
        "# Define the model\n",
        "model_e1d1 = tf.keras.models.Model(encoder_inputs, decoder_outputs1)\n",
        "\n",
        "# Print the model summary\n",
        "model_e1d1.summary()\n",
        "\n"
      ],
      "metadata": {
        "colab": {
          "base_uri": "https://localhost:8080/"
        },
        "id": "2V16CkD7NxxJ",
        "outputId": "39282e1e-258e-4fb0-c5ea-91f0230dd1bd"
      },
      "execution_count": null,
      "outputs": [
        {
          "output_type": "stream",
          "name": "stdout",
          "text": [
            "Model: \"model\"\n",
            "__________________________________________________________________________________________________\n",
            " Layer (type)                   Output Shape         Param #     Connected to                     \n",
            "==================================================================================================\n",
            " input_3 (InputLayer)           [(None, 30, 1)]      0           []                               \n",
            "                                                                                                  \n",
            " lstm_4 (LSTM)                  [(None, 30, 100),    40800       ['input_3[0][0]']                \n",
            "                                 (None, 100),                                                     \n",
            "                                 (None, 100)]                                                     \n",
            "                                                                                                  \n",
            " lstm_5 (LSTM)                  [(None, 30, 100),    80400       ['lstm_4[0][0]']                 \n",
            "                                 (None, 100),                                                     \n",
            "                                 (None, 100)]                                                     \n",
            "                                                                                                  \n",
            " flatten (Flatten)              (None, 3000)         0           ['lstm_5[0][0]']                 \n",
            "                                                                                                  \n",
            " repeat_vector_1 (RepeatVector)  (None, 3, 3000)     0           ['flatten[0][0]']                \n",
            "                                                                                                  \n",
            " reshape (Reshape)              (None, 3, 3000)      0           ['repeat_vector_1[0][0]']        \n",
            "                                                                                                  \n",
            " lstm_6 (LSTM)                  (None, 3, 100)       1240400     ['reshape[0][0]',                \n",
            "                                                                  'lstm_5[0][1]',                 \n",
            "                                                                  'lstm_5[0][2]']                 \n",
            "                                                                                                  \n",
            " time_distributed (TimeDistribu  (None, 3, 1)        101         ['lstm_6[0][0]']                 \n",
            " ted)                                                                                             \n",
            "                                                                                                  \n",
            "==================================================================================================\n",
            "Total params: 1,361,701\n",
            "Trainable params: 1,361,701\n",
            "Non-trainable params: 0\n",
            "__________________________________________________________________________________________________\n"
          ]
        }
      ]
    },
    {
      "cell_type": "code",
      "source": [
        "reduce_lr = tf.keras.callbacks.LearningRateScheduler(lambda x: 1e-3 * 0.95 ** x)\n",
        "model_e1d1.compile(optimizer=tf.keras.optimizers.Adam(), loss=tf.keras.losses.Huber())\n",
        "history_e1d1=model_e1d1.fit(X_train,y_train,epochs=25,validation_data=(X_test,y_test),batch_size=32,verbose=1,callbacks=[reduce_lr])"
      ],
      "metadata": {
        "colab": {
          "base_uri": "https://localhost:8080/"
        },
        "id": "Gq8eX7_UZJOL",
        "outputId": "2c40f78a-00e0-420f-ec4e-2839a7a96f47"
      },
      "execution_count": null,
      "outputs": [
        {
          "output_type": "stream",
          "name": "stdout",
          "text": [
            "Epoch 1/25\n",
            "875/875 [==============================] - 120s 124ms/step - loss: 0.0205 - val_loss: 0.0133 - lr: 0.0010\n",
            "Epoch 2/25\n",
            "875/875 [==============================] - 101s 115ms/step - loss: 0.0203 - val_loss: 0.0138 - lr: 9.5000e-04\n",
            "Epoch 3/25\n",
            "875/875 [==============================] - 93s 106ms/step - loss: 0.0203 - val_loss: 0.0137 - lr: 9.0250e-04\n",
            "Epoch 4/25\n",
            "875/875 [==============================] - 94s 108ms/step - loss: 0.0202 - val_loss: 0.0139 - lr: 8.5737e-04\n",
            "Epoch 5/25\n",
            "875/875 [==============================] - 94s 107ms/step - loss: 0.0201 - val_loss: 0.0145 - lr: 8.1451e-04\n",
            "Epoch 6/25\n",
            "875/875 [==============================] - 95s 109ms/step - loss: 0.0199 - val_loss: 0.0133 - lr: 7.7378e-04\n",
            "Epoch 7/25\n",
            "875/875 [==============================] - 97s 111ms/step - loss: 0.0198 - val_loss: 0.0132 - lr: 7.3509e-04\n",
            "Epoch 8/25\n",
            "875/875 [==============================] - 94s 108ms/step - loss: 0.0198 - val_loss: 0.0156 - lr: 6.9834e-04\n",
            "Epoch 9/25\n",
            "875/875 [==============================] - 95s 108ms/step - loss: 0.0198 - val_loss: 0.0144 - lr: 6.6342e-04\n",
            "Epoch 10/25\n",
            "875/875 [==============================] - 94s 108ms/step - loss: 0.0198 - val_loss: 0.0133 - lr: 6.3025e-04\n",
            "Epoch 11/25\n",
            "875/875 [==============================] - 106s 121ms/step - loss: 0.0197 - val_loss: 0.0131 - lr: 5.9874e-04\n",
            "Epoch 12/25\n",
            "875/875 [==============================] - 99s 113ms/step - loss: 0.0197 - val_loss: 0.0128 - lr: 5.6880e-04\n",
            "Epoch 13/25\n",
            "875/875 [==============================] - 98s 112ms/step - loss: 0.0196 - val_loss: 0.0131 - lr: 5.4036e-04\n",
            "Epoch 14/25\n",
            "875/875 [==============================] - 95s 109ms/step - loss: 0.0196 - val_loss: 0.0132 - lr: 5.1334e-04\n",
            "Epoch 15/25\n",
            "875/875 [==============================] - 94s 107ms/step - loss: 0.0195 - val_loss: 0.0130 - lr: 4.8767e-04\n",
            "Epoch 16/25\n",
            "875/875 [==============================] - 94s 108ms/step - loss: 0.0195 - val_loss: 0.0127 - lr: 4.6329e-04\n",
            "Epoch 17/25\n",
            "875/875 [==============================] - 95s 109ms/step - loss: 0.0195 - val_loss: 0.0127 - lr: 4.4013e-04\n",
            "Epoch 18/25\n",
            "875/875 [==============================] - 94s 107ms/step - loss: 0.0195 - val_loss: 0.0128 - lr: 4.1812e-04\n",
            "Epoch 19/25\n",
            "875/875 [==============================] - 94s 108ms/step - loss: 0.0194 - val_loss: 0.0133 - lr: 3.9721e-04\n",
            "Epoch 20/25\n",
            "875/875 [==============================] - 95s 108ms/step - loss: 0.0194 - val_loss: 0.0131 - lr: 3.7735e-04\n",
            "Epoch 21/25\n",
            "875/875 [==============================] - 94s 108ms/step - loss: 0.0194 - val_loss: 0.0129 - lr: 3.5849e-04\n",
            "Epoch 22/25\n",
            "875/875 [==============================] - 97s 111ms/step - loss: 0.0193 - val_loss: 0.0129 - lr: 3.4056e-04\n",
            "Epoch 23/25\n",
            "875/875 [==============================] - 99s 113ms/step - loss: 0.0193 - val_loss: 0.0135 - lr: 3.2353e-04\n",
            "Epoch 24/25\n",
            "875/875 [==============================] - 94s 107ms/step - loss: 0.0192 - val_loss: 0.0130 - lr: 3.0736e-04\n",
            "Epoch 25/25\n",
            "875/875 [==============================] - 93s 107ms/step - loss: 0.0191 - val_loss: 0.0131 - lr: 2.9199e-04\n"
          ]
        }
      ]
    },
    {
      "cell_type": "code",
      "source": [
        "pred_e1d1=model_e1d1.predict(X_test)"
      ],
      "metadata": {
        "colab": {
          "base_uri": "https://localhost:8080/"
        },
        "id": "wbpUng43ZNBy",
        "outputId": "6c8f1b1c-c033-4c39-f2da-337dddfa7d3f"
      },
      "execution_count": null,
      "outputs": [
        {
          "output_type": "stream",
          "name": "stdout",
          "text": [
            "218/218 [==============================] - 8s 31ms/step\n"
          ]
        }
      ]
    },
    {
      "cell_type": "code",
      "source": [
        "for index,i in enumerate(train.columns):\n",
        "    scaler = scalers['scaler_'+i]\n",
        "    pred_e1d1[:,:,index]=scaler.inverse_transform(pred_e1d1[:,:,index])\n",
        "    y_train[:,:,index]=scaler.inverse_transform(y_train[:,:,index])\n",
        "    y_test[:,:,index]=scaler.inverse_transform(y_test[:,:,index])"
      ],
      "metadata": {
        "id": "zZnkfYK-ZPIo"
      },
      "execution_count": null,
      "outputs": []
    },
    {
      "cell_type": "code",
      "source": [
        "print(pred_e1d1,pred_e1d1[:,0,index-3])"
      ],
      "metadata": {
        "colab": {
          "base_uri": "https://localhost:8080/",
          "height": 175
        },
        "id": "GUKOpqReZUdp",
        "outputId": "c8c39732-4f59-4ab6-cbe6-e193063b3105"
      },
      "execution_count": null,
      "outputs": [
        {
          "output_type": "error",
          "ename": "IndexError",
          "evalue": "ignored",
          "traceback": [
            "\u001b[0;31m---------------------------------------------------------------------------\u001b[0m",
            "\u001b[0;31mIndexError\u001b[0m                                Traceback (most recent call last)",
            "\u001b[0;32m<ipython-input-20-3f4c693da73c>\u001b[0m in \u001b[0;36m<cell line: 1>\u001b[0;34m()\u001b[0m\n\u001b[0;32m----> 1\u001b[0;31m \u001b[0mprint\u001b[0m\u001b[0;34m(\u001b[0m\u001b[0mpred_e1d1\u001b[0m\u001b[0;34m,\u001b[0m\u001b[0mpred_e1d1\u001b[0m\u001b[0;34m[\u001b[0m\u001b[0;34m:\u001b[0m\u001b[0;34m,\u001b[0m\u001b[0;36m0\u001b[0m\u001b[0;34m,\u001b[0m\u001b[0mindex\u001b[0m\u001b[0;34m-\u001b[0m\u001b[0;36m3\u001b[0m\u001b[0;34m]\u001b[0m\u001b[0;34m)\u001b[0m\u001b[0;34m\u001b[0m\u001b[0;34m\u001b[0m\u001b[0m\n\u001b[0m",
            "\u001b[0;31mIndexError\u001b[0m: index -3 is out of bounds for axis 2 with size 1"
          ]
        }
      ]
    },
    {
      "cell_type": "code",
      "source": [
        "print(pred_e1d1[:,:,0])"
      ],
      "metadata": {
        "colab": {
          "base_uri": "https://localhost:8080/"
        },
        "id": "qhfNwoYfZbVG",
        "outputId": "4d93db19-3fcb-4856-9868-dc681f09ff83"
      },
      "execution_count": null,
      "outputs": [
        {
          "output_type": "stream",
          "name": "stdout",
          "text": [
            "[[3.361386  3.356961  3.3552253]\n",
            " [3.3885581 3.384549  3.3833036]\n",
            " [3.3901732 3.3863218 3.3859138]\n",
            " ...\n",
            " [3.4001336 3.403184  3.4030337]\n",
            " [3.4390035 3.433726  3.4311712]\n",
            " [3.441263  3.4326863 3.4302528]]\n"
          ]
        }
      ]
    },
    {
      "cell_type": "code",
      "source": [
        "# convert the training history to a dataframe\n",
        "history_e1d1_df = pd.DataFrame(history_e1d1.history)\n",
        "# use Pandas native plot method\n",
        "#history_df['loss'].plot();\n",
        "history_e1d1_df.loc[:, ['loss', 'val_loss']].plot();\n",
        "print(\"Minimum validation loss: {}\".format(history_e1d1_df['val_loss'].min()))"
      ],
      "metadata": {
        "colab": {
          "base_uri": "https://localhost:8080/",
          "height": 447
        },
        "id": "stL2VJzRZdJK",
        "outputId": "d005f330-2fd5-4dd8-b143-650945b213f4"
      },
      "execution_count": null,
      "outputs": [
        {
          "output_type": "stream",
          "name": "stdout",
          "text": [
            "Minimum validation loss: 0.0127344261854887\n"
          ]
        },
        {
          "output_type": "display_data",
          "data": {
            "text/plain": [
              "<Figure size 640x480 with 1 Axes>"
            ],
            "image/png": "[encoded data removed]"
          },
          "metadata": {}
        }
      ]
    },
    {
      "cell_type": "code",
      "source": [
        "a=y_test[:,0,index]\n",
        "b=pred_e1d1[:,0,index]\n",
        "print(math.sqrt(mean_squared_error(a,b)))\n",
        "print(mean_absolute_error(a,b))"
      ],
      "metadata": {
        "colab": {
          "base_uri": "https://localhost:8080/"
        },
        "id": "1_5Eq-tXGQPD",
        "outputId": "a547b5ec-052f-44b5-e6ea-9c1985a451f0"
      },
      "execution_count": null,
      "outputs": [
        {
          "output_type": "stream",
          "name": "stdout",
          "text": [
            "0.21972185601407782\n",
            "0.17563265827762314\n"
          ]
        }
      ]
    }
  ]
}